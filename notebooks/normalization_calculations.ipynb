{
 "cells": [
  {
   "cell_type": "code",
   "execution_count": 4,
   "metadata": {},
   "outputs": [
    {
     "name": "stdout",
     "output_type": "stream",
     "text": [
      "C:\\files\\code\\projects\\dnn-studia\\project\n"
     ]
    }
   ],
   "source": [
    "%cd .."
   ]
  },
  {
   "cell_type": "code",
   "execution_count": 58,
   "metadata": {},
   "outputs": [
    {
     "data": {
      "text/plain": [
       "{'source': 'http://imagenet.stanford.edu/internal/car196/car_ims.tgz',\n",
       " 'data_dir': WindowsPath('data/input/stanford'),\n",
       " 'annotations': {'original_file_path': WindowsPath('data/input/stanford/devkit/cars_annos.mat'),\n",
       "  'csv_file_path': WindowsPath('data/input/stanford/devkit/cars_annos.csv'),\n",
       "  'source': 'https://ai.stanford.edu/~jkrause/cars/car_devkit.tgz'},\n",
       " 'class_names': {'original_file_path': WindowsPath('data/input/stanford/devkit/cars_meta.mat'),\n",
       "  'csv_file_path': WindowsPath('data/input/stanford/devkit/cars_meta.csv'),\n",
       "  'source': 'https://ai.stanford.edu/~jkrause/cars/car_devkit.tgz'},\n",
       " 'num_classes': 196,\n",
       " 'in_channels': 3}"
      ]
     },
     "execution_count": 58,
     "metadata": {},
     "output_type": "execute_result"
    }
   ],
   "source": [
    "from pathlib import Path\n",
    "import os\n",
    "from config.structure import get_data_sources\n",
    "\n",
    "dataset_info = get_data_sources(root_path=Path('.'))['stanford']\n",
    "dataset_info"
   ]
  },
  {
   "cell_type": "code",
   "execution_count": 59,
   "metadata": {},
   "outputs": [
    {
     "data": {
      "text/html": [
       "<div>\n",
       "<style scoped>\n",
       "    .dataframe tbody tr th:only-of-type {\n",
       "        vertical-align: middle;\n",
       "    }\n",
       "\n",
       "    .dataframe tbody tr th {\n",
       "        vertical-align: top;\n",
       "    }\n",
       "\n",
       "    .dataframe thead th {\n",
       "        text-align: right;\n",
       "    }\n",
       "</style>\n",
       "<table border=\"1\" class=\"dataframe\">\n",
       "  <thead>\n",
       "    <tr style=\"text-align: right;\">\n",
       "      <th></th>\n",
       "      <th>relative_im_path</th>\n",
       "      <th>bbox_x1</th>\n",
       "      <th>bbox_y1</th>\n",
       "      <th>bbox_x2</th>\n",
       "      <th>bbox_y2</th>\n",
       "      <th>class</th>\n",
       "      <th>test</th>\n",
       "    </tr>\n",
       "  </thead>\n",
       "  <tbody>\n",
       "    <tr>\n",
       "      <th>0</th>\n",
       "      <td>car_ims/000001.jpg</td>\n",
       "      <td>112</td>\n",
       "      <td>7</td>\n",
       "      <td>853</td>\n",
       "      <td>717</td>\n",
       "      <td>0</td>\n",
       "      <td>0</td>\n",
       "    </tr>\n",
       "    <tr>\n",
       "      <th>1</th>\n",
       "      <td>car_ims/000002.jpg</td>\n",
       "      <td>48</td>\n",
       "      <td>24</td>\n",
       "      <td>441</td>\n",
       "      <td>202</td>\n",
       "      <td>0</td>\n",
       "      <td>0</td>\n",
       "    </tr>\n",
       "    <tr>\n",
       "      <th>2</th>\n",
       "      <td>car_ims/000003.jpg</td>\n",
       "      <td>7</td>\n",
       "      <td>4</td>\n",
       "      <td>277</td>\n",
       "      <td>180</td>\n",
       "      <td>0</td>\n",
       "      <td>0</td>\n",
       "    </tr>\n",
       "    <tr>\n",
       "      <th>3</th>\n",
       "      <td>car_ims/000004.jpg</td>\n",
       "      <td>33</td>\n",
       "      <td>50</td>\n",
       "      <td>197</td>\n",
       "      <td>150</td>\n",
       "      <td>0</td>\n",
       "      <td>0</td>\n",
       "    </tr>\n",
       "    <tr>\n",
       "      <th>4</th>\n",
       "      <td>car_ims/000005.jpg</td>\n",
       "      <td>5</td>\n",
       "      <td>8</td>\n",
       "      <td>83</td>\n",
       "      <td>58</td>\n",
       "      <td>0</td>\n",
       "      <td>0</td>\n",
       "    </tr>\n",
       "    <tr>\n",
       "      <th>...</th>\n",
       "      <td>...</td>\n",
       "      <td>...</td>\n",
       "      <td>...</td>\n",
       "      <td>...</td>\n",
       "      <td>...</td>\n",
       "      <td>...</td>\n",
       "      <td>...</td>\n",
       "    </tr>\n",
       "    <tr>\n",
       "      <th>16180</th>\n",
       "      <td>car_ims/016181.jpg</td>\n",
       "      <td>38</td>\n",
       "      <td>36</td>\n",
       "      <td>375</td>\n",
       "      <td>234</td>\n",
       "      <td>195</td>\n",
       "      <td>1</td>\n",
       "    </tr>\n",
       "    <tr>\n",
       "      <th>16181</th>\n",
       "      <td>car_ims/016182.jpg</td>\n",
       "      <td>29</td>\n",
       "      <td>34</td>\n",
       "      <td>235</td>\n",
       "      <td>164</td>\n",
       "      <td>195</td>\n",
       "      <td>1</td>\n",
       "    </tr>\n",
       "    <tr>\n",
       "      <th>16182</th>\n",
       "      <td>car_ims/016183.jpg</td>\n",
       "      <td>25</td>\n",
       "      <td>32</td>\n",
       "      <td>587</td>\n",
       "      <td>359</td>\n",
       "      <td>195</td>\n",
       "      <td>1</td>\n",
       "    </tr>\n",
       "    <tr>\n",
       "      <th>16183</th>\n",
       "      <td>car_ims/016184.jpg</td>\n",
       "      <td>56</td>\n",
       "      <td>60</td>\n",
       "      <td>208</td>\n",
       "      <td>186</td>\n",
       "      <td>195</td>\n",
       "      <td>1</td>\n",
       "    </tr>\n",
       "    <tr>\n",
       "      <th>16184</th>\n",
       "      <td>car_ims/016185.jpg</td>\n",
       "      <td>1</td>\n",
       "      <td>1</td>\n",
       "      <td>200</td>\n",
       "      <td>131</td>\n",
       "      <td>195</td>\n",
       "      <td>1</td>\n",
       "    </tr>\n",
       "  </tbody>\n",
       "</table>\n",
       "<p>16185 rows × 7 columns</p>\n",
       "</div>"
      ],
      "text/plain": [
       "         relative_im_path  bbox_x1  bbox_y1  bbox_x2  bbox_y2  class  test\n",
       "0      car_ims/000001.jpg      112        7      853      717      0     0\n",
       "1      car_ims/000002.jpg       48       24      441      202      0     0\n",
       "2      car_ims/000003.jpg        7        4      277      180      0     0\n",
       "3      car_ims/000004.jpg       33       50      197      150      0     0\n",
       "4      car_ims/000005.jpg        5        8       83       58      0     0\n",
       "...                   ...      ...      ...      ...      ...    ...   ...\n",
       "16180  car_ims/016181.jpg       38       36      375      234    195     1\n",
       "16181  car_ims/016182.jpg       29       34      235      164    195     1\n",
       "16182  car_ims/016183.jpg       25       32      587      359    195     1\n",
       "16183  car_ims/016184.jpg       56       60      208      186    195     1\n",
       "16184  car_ims/016185.jpg        1        1      200      131    195     1\n",
       "\n",
       "[16185 rows x 7 columns]"
      ]
     },
     "execution_count": 59,
     "metadata": {},
     "output_type": "execute_result"
    }
   ],
   "source": [
    "import pandas as pd\n",
    "annotations = pd.read_csv(dataset_info['annotations']['csv_file_path'])\n",
    "annotations"
   ]
  },
  {
   "cell_type": "code",
   "execution_count": 130,
   "metadata": {},
   "outputs": [],
   "source": [
    "from PIL import Image\n",
    "\n",
    "train_files = annotations.loc[annotations.test == 0, 'relative_im_path']\n",
    "result_array = np.empty(shape=(train_files.shape[0],8))\n",
    "for idx, image_file_name in enumerate(train_files):\n",
    "    image_fp = images_dir.parent / image_file_name\n",
    "    \n",
    "    image_rgb = Image.open(image_fp).convert('RGB')    \n",
    "    rgb_mean = np.array(image_rgb).mean(axis=(0,1))\n",
    "    rgb_sd = np.array(image_rgb).std(axis=(0,1))\n",
    "    \n",
    "    image_grayscale = Image.open(image_fp).convert('LA')   \n",
    "    grayscale_mean = np.array(image_rgb).mean()\n",
    "    grayscale_sd = np.array(image_rgb).std()\n",
    "    \n",
    "    result_array[idx] = [*rgb_mean, *rgb_sd, grayscale_mean, grayscale_sd]"
   ]
  },
  {
   "cell_type": "code",
   "execution_count": 114,
   "metadata": {},
   "outputs": [
    {
     "data": {
      "text/plain": [
       "array([[122.04870733, 121.6701088 , 106.03189468, ...,  63.53639535,\n",
       "        116.58357027,  72.07696572],\n",
       "       [154.36988287, 134.48514989, 107.02029978, ...,  91.50737889,\n",
       "        131.95844418,  87.56570686],\n",
       "       [167.01889796, 164.19386681, 155.35767687, ...,  66.98040657,\n",
       "        162.19014721,  70.31320371],\n",
       "       ...,\n",
       "       [118.76636173, 115.07467877, 115.15308659, ...,  74.37616597,\n",
       "        116.3313757 ,  75.73601518],\n",
       "       [111.3096309 , 114.64388075, 101.29394053, ...,  87.70721664,\n",
       "        109.08248406,  85.09188734],\n",
       "       [141.79109524, 130.3557381 , 118.49995238, ...,  58.85885296,\n",
       "        130.21559524,  61.96392373]])"
      ]
     },
     "execution_count": 114,
     "metadata": {},
     "output_type": "execute_result"
    }
   ],
   "source": [
    "result_array"
   ]
  },
  {
   "cell_type": "code",
   "execution_count": 131,
   "metadata": {},
   "outputs": [
    {
     "data": {
      "text/plain": [
       "(8144, 8)"
      ]
     },
     "execution_count": 131,
     "metadata": {},
     "output_type": "execute_result"
    }
   ],
   "source": [
    "result_array.shape"
   ]
  },
  {
   "cell_type": "code",
   "execution_count": 132,
   "metadata": {},
   "outputs": [
    {
     "data": {
      "text/plain": [
       "array([120.03696796, 117.33762399, 116.01268726,  67.98191606,\n",
       "        67.77189476,  68.98854547, 117.79575974,  68.8953465 ])"
      ]
     },
     "execution_count": 132,
     "metadata": {},
     "output_type": "execute_result"
    }
   ],
   "source": [
    "result_array.mean(axis=0) "
   ]
  },
  {
   "cell_type": "code",
   "execution_count": 133,
   "metadata": {},
   "outputs": [
    {
     "data": {
      "text/plain": [
       "array([0.47073321, 0.46014755, 0.45495171, 0.26659575, 0.26577214,\n",
       "       0.27054332, 0.46194416, 0.27017783])"
      ]
     },
     "execution_count": 133,
     "metadata": {},
     "output_type": "execute_result"
    }
   ],
   "source": [
    "result_array.mean(axis=0) / 255"
   ]
  }
 ],
 "metadata": {
  "kernelspec": {
   "display_name": "dnn",
   "language": "python",
   "name": "dnn"
  },
  "language_info": {
   "codemirror_mode": {
    "name": "ipython",
    "version": 3
   },
   "file_extension": ".py",
   "mimetype": "text/x-python",
   "name": "python",
   "nbconvert_exporter": "python",
   "pygments_lexer": "ipython3",
   "version": "3.8.5"
  }
 },
 "nbformat": 4,
 "nbformat_minor": 4
}
