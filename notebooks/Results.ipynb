{
 "cells": [
  {
   "cell_type": "code",
   "execution_count": null,
   "metadata": {},
   "outputs": [],
   "source": [
    "# !{sys.executable} -m pip install efficientnet-pytorch"
   ]
  },
  {
   "cell_type": "code",
   "execution_count": 48,
   "metadata": {},
   "outputs": [],
   "source": [
    "from pathlib import Path\n",
    "from fastai.basic_train import load_learner\n",
    "from fastai.train import ClassificationInterpretation\n",
    "from config.structure import get_data_sources\n",
    "from training.data import load_data"
   ]
  },
  {
   "cell_type": "code",
   "execution_count": null,
   "outputs": [],
   "source": [
    "from IPython.core.interactiveshell import InteractiveShell\n",
    "\n",
    "InteractiveShell.ast_node_interactivity = \"all\"\n",
    "\n",
    "%reload_ext autoreload\n",
    "%autoreload 1\n",
    "%matplotlib inline\n",
    "\n",
    "import os\n",
    "os.chdir('../')"
   ],
   "metadata": {
    "collapsed": false,
    "pycharm": {
     "name": "#%%\n"
    }
   }
  },
  {
   "cell_type": "code",
   "execution_count": 21,
   "outputs": [
    {
     "name": "stderr",
     "output_type": "stream",
     "text": [
      "2020-05-07 19:50:43,228: training.data: Loading data from: data\\input\\stanford\\cars_train; image size: 300; batch size: 32.\n",
      "2020-05-07 19:50:46,367: training.data: Data loaded.\n"
     ]
    },
    {
     "data": {
      "text/plain": "    filename  bbox_x1  bbox_y1  bbox_x2  bbox_y2  class_id  \\\n0  00001.jpg       39      116      569      375        14   \n1  00002.jpg       36      116      868      587         3   \n2  00003.jpg       85      109      601      381        91   \n3  00004.jpg      621      393     1484     1096       134   \n4  00005.jpg       14       36      133       99       106   \n\n                            class_name  is_test   filename_cropped  bbox_h  \\\n0                  Audi TTS Coupe 2012        0  cropped_00001.jpg     260   \n1                  Acura TL Sedan 2012        0  cropped_00002.jpg     472   \n2           Dodge Dakota Club Cab 2007        0  cropped_00003.jpg     273   \n3     Hyundai Sonata Hybrid Sedan 2012        0  cropped_00004.jpg     704   \n4  Ford F-450 Super Duty Crew Cab 2012        0  cropped_00005.jpg      64   \n\n   bbox_w  \n0     531  \n1     833  \n2     517  \n3     864  \n4     120  ",
      "text/html": "<div>\n<style scoped>\n    .dataframe tbody tr th:only-of-type {\n        vertical-align: middle;\n    }\n\n    .dataframe tbody tr th {\n        vertical-align: top;\n    }\n\n    .dataframe thead th {\n        text-align: right;\n    }\n</style>\n<table border=\"1\" class=\"dataframe\">\n  <thead>\n    <tr style=\"text-align: right;\">\n      <th></th>\n      <th>filename</th>\n      <th>bbox_x1</th>\n      <th>bbox_y1</th>\n      <th>bbox_x2</th>\n      <th>bbox_y2</th>\n      <th>class_id</th>\n      <th>class_name</th>\n      <th>is_test</th>\n      <th>filename_cropped</th>\n      <th>bbox_h</th>\n      <th>bbox_w</th>\n    </tr>\n  </thead>\n  <tbody>\n    <tr>\n      <th>0</th>\n      <td>00001.jpg</td>\n      <td>39</td>\n      <td>116</td>\n      <td>569</td>\n      <td>375</td>\n      <td>14</td>\n      <td>Audi TTS Coupe 2012</td>\n      <td>0</td>\n      <td>cropped_00001.jpg</td>\n      <td>260</td>\n      <td>531</td>\n    </tr>\n    <tr>\n      <th>1</th>\n      <td>00002.jpg</td>\n      <td>36</td>\n      <td>116</td>\n      <td>868</td>\n      <td>587</td>\n      <td>3</td>\n      <td>Acura TL Sedan 2012</td>\n      <td>0</td>\n      <td>cropped_00002.jpg</td>\n      <td>472</td>\n      <td>833</td>\n    </tr>\n    <tr>\n      <th>2</th>\n      <td>00003.jpg</td>\n      <td>85</td>\n      <td>109</td>\n      <td>601</td>\n      <td>381</td>\n      <td>91</td>\n      <td>Dodge Dakota Club Cab 2007</td>\n      <td>0</td>\n      <td>cropped_00003.jpg</td>\n      <td>273</td>\n      <td>517</td>\n    </tr>\n    <tr>\n      <th>3</th>\n      <td>00004.jpg</td>\n      <td>621</td>\n      <td>393</td>\n      <td>1484</td>\n      <td>1096</td>\n      <td>134</td>\n      <td>Hyundai Sonata Hybrid Sedan 2012</td>\n      <td>0</td>\n      <td>cropped_00004.jpg</td>\n      <td>704</td>\n      <td>864</td>\n    </tr>\n    <tr>\n      <th>4</th>\n      <td>00005.jpg</td>\n      <td>14</td>\n      <td>36</td>\n      <td>133</td>\n      <td>99</td>\n      <td>106</td>\n      <td>Ford F-450 Super Duty Crew Cab 2012</td>\n      <td>0</td>\n      <td>cropped_00005.jpg</td>\n      <td>64</td>\n      <td>120</td>\n    </tr>\n  </tbody>\n</table>\n</div>"
     },
     "execution_count": 21,
     "metadata": {},
     "output_type": "execute_result"
    }
   ],
   "source": [
    "data, labels = load_data(dataset_info=get_data_sources()['stanford'], batch_size=32)\n",
    "labels.head()"
   ],
   "metadata": {
    "collapsed": false,
    "pycharm": {
     "name": "#%%\n"
    }
   }
  },
  {
   "cell_type": "code",
   "execution_count": 49,
   "outputs": [
    {
     "ename": "KeyError",
     "evalue": "'data'",
     "output_type": "error",
     "traceback": [
      "\u001B[1;31m---------------------------------------------------------------------------\u001B[0m",
      "\u001B[1;31mKeyError\u001B[0m                                  Traceback (most recent call last)",
      "\u001B[1;32m<ipython-input-49-20257acdaf32>\u001B[0m in \u001B[0;36m<module>\u001B[1;34m\u001B[0m\n\u001B[0;32m      1\u001B[0m \u001B[0mlearner_path\u001B[0m \u001B[1;33m=\u001B[0m \u001B[0mPath\u001B[0m\u001B[1;33m(\u001B[0m\u001B[1;34m'data/output/trials/2020_05_05/2d3768cc-8eeb-11ea-878b-0242ac1c0002/models/'\u001B[0m\u001B[1;33m)\u001B[0m\u001B[1;33m\u001B[0m\u001B[1;33m\u001B[0m\u001B[0m\n\u001B[1;32m----> 2\u001B[1;33m \u001B[0mlearn\u001B[0m \u001B[1;33m=\u001B[0m \u001B[0mload_learner\u001B[0m\u001B[1;33m(\u001B[0m\u001B[0mlearner_path\u001B[0m\u001B[1;33m,\u001B[0m \u001B[1;34m'bestmodel.pth'\u001B[0m\u001B[1;33m)\u001B[0m\u001B[1;33m\u001B[0m\u001B[1;33m\u001B[0m\u001B[0m\n\u001B[0m\u001B[0;32m      3\u001B[0m \u001B[0mlearn\u001B[0m\u001B[1;33m\u001B[0m\u001B[1;33m\u001B[0m\u001B[0m\n",
      "\u001B[1;32m~\\Miniconda3\\envs\\project\\lib\\site-packages\\fastai\\basic_train.py\u001B[0m in \u001B[0;36mload_learner\u001B[1;34m(path, file, test, tfm_y, **db_kwargs)\u001B[0m\n\u001B[0;32m    618\u001B[0m     \u001B[0mstate\u001B[0m \u001B[1;33m=\u001B[0m \u001B[0mtorch\u001B[0m\u001B[1;33m.\u001B[0m\u001B[0mload\u001B[0m\u001B[1;33m(\u001B[0m\u001B[0msource\u001B[0m\u001B[1;33m,\u001B[0m \u001B[0mmap_location\u001B[0m\u001B[1;33m=\u001B[0m\u001B[1;34m'cpu'\u001B[0m\u001B[1;33m)\u001B[0m \u001B[1;32mif\u001B[0m \u001B[0mdefaults\u001B[0m\u001B[1;33m.\u001B[0m\u001B[0mdevice\u001B[0m \u001B[1;33m==\u001B[0m \u001B[0mtorch\u001B[0m\u001B[1;33m.\u001B[0m\u001B[0mdevice\u001B[0m\u001B[1;33m(\u001B[0m\u001B[1;34m'cpu'\u001B[0m\u001B[1;33m)\u001B[0m \u001B[1;32melse\u001B[0m \u001B[0mtorch\u001B[0m\u001B[1;33m.\u001B[0m\u001B[0mload\u001B[0m\u001B[1;33m(\u001B[0m\u001B[0msource\u001B[0m\u001B[1;33m)\u001B[0m\u001B[1;33m\u001B[0m\u001B[1;33m\u001B[0m\u001B[0m\n\u001B[0;32m    619\u001B[0m     \u001B[0mmodel\u001B[0m \u001B[1;33m=\u001B[0m \u001B[0mstate\u001B[0m\u001B[1;33m.\u001B[0m\u001B[0mpop\u001B[0m\u001B[1;33m(\u001B[0m\u001B[1;34m'model'\u001B[0m\u001B[1;33m)\u001B[0m\u001B[1;33m\u001B[0m\u001B[1;33m\u001B[0m\u001B[0m\n\u001B[1;32m--> 620\u001B[1;33m     \u001B[0msrc\u001B[0m \u001B[1;33m=\u001B[0m \u001B[0mLabelLists\u001B[0m\u001B[1;33m.\u001B[0m\u001B[0mload_state\u001B[0m\u001B[1;33m(\u001B[0m\u001B[0mpath\u001B[0m\u001B[1;33m,\u001B[0m \u001B[0mstate\u001B[0m\u001B[1;33m.\u001B[0m\u001B[0mpop\u001B[0m\u001B[1;33m(\u001B[0m\u001B[1;34m'data'\u001B[0m\u001B[1;33m)\u001B[0m\u001B[1;33m)\u001B[0m\u001B[1;33m\u001B[0m\u001B[1;33m\u001B[0m\u001B[0m\n\u001B[0m\u001B[0;32m    621\u001B[0m     \u001B[1;32mif\u001B[0m \u001B[0mtest\u001B[0m \u001B[1;32mis\u001B[0m \u001B[1;32mnot\u001B[0m \u001B[1;32mNone\u001B[0m\u001B[1;33m:\u001B[0m \u001B[0msrc\u001B[0m\u001B[1;33m.\u001B[0m\u001B[0madd_test\u001B[0m\u001B[1;33m(\u001B[0m\u001B[0mtest\u001B[0m\u001B[1;33m,\u001B[0m \u001B[0mtfm_y\u001B[0m\u001B[1;33m=\u001B[0m\u001B[0mtfm_y\u001B[0m\u001B[1;33m)\u001B[0m\u001B[1;33m\u001B[0m\u001B[1;33m\u001B[0m\u001B[0m\n\u001B[0;32m    622\u001B[0m     \u001B[0mdata\u001B[0m \u001B[1;33m=\u001B[0m \u001B[0msrc\u001B[0m\u001B[1;33m.\u001B[0m\u001B[0mdatabunch\u001B[0m\u001B[1;33m(\u001B[0m\u001B[1;33m**\u001B[0m\u001B[0mdb_kwargs\u001B[0m\u001B[1;33m)\u001B[0m\u001B[1;33m\u001B[0m\u001B[1;33m\u001B[0m\u001B[0m\n",
      "\u001B[1;31mKeyError\u001B[0m: 'data'"
     ]
    }
   ],
   "source": [
    "learner_path = Path('data/output/trials/2020_05_05/2d3768cc-8eeb-11ea-878b-0242ac1c0002/models/')\n",
    "learn = load_learner(learner_path, 'bestmodel.pth')\n",
    "learn"
   ],
   "metadata": {
    "collapsed": false,
    "pycharm": {
     "name": "#%%\n"
    }
   }
  },
  {
   "cell_type": "code",
   "execution_count": 31,
   "outputs": [
    {
     "data": {
      "text/plain": "WindowsPath('/data/output/trials/2020_05_05/2d3768cc-8eeb-11ea-878b-0242ac1c0002/models/bestmodel.pth')"
     },
     "execution_count": 31,
     "metadata": {},
     "output_type": "execute_result"
    }
   ],
   "source": [
    "learner_path"
   ],
   "metadata": {
    "collapsed": false,
    "pycharm": {
     "name": "#%%\n"
    }
   }
  },
  {
   "cell_type": "code",
   "execution_count": null,
   "outputs": [],
   "source": [
    "interp = ClassificationInterpretation.from_learner(learn)\n",
    "interp.plot_top_losses(9, figsize=(16,16))\n",
    "\n",
    "\n"
   ],
   "metadata": {
    "collapsed": false,
    "pycharm": {
     "name": "#%%\n"
    }
   }
  },
  {
   "cell_type": "code",
   "execution_count": 55,
   "outputs": [],
   "source": [
    "from fastai.basic_train import Learner\n",
    "from fastai.callbacks import CSVLogger, SaveModelCallback\n",
    "from fastai.metrics import accuracy, LabelSmoothingCrossEntropy\n",
    "\n",
    "from model.efficient_net import EfficientNet\n",
    "from structure.efficient_nets import EfficientNets\n",
    "from structure.trial_info import TrialInfo\n",
    "\n",
    "model_info = EfficientNets.b0\n",
    "load_weights = True\n",
    "advprop = False\n",
    "\n",
    "model = EfficientNet(model_info.value, load_weights, advprop)\n",
    "\n",
    "trial_info = TrialInfo(model_info, load_weights, advprop)\n",
    "trial_info.output_folder = 'data/output/trials/2020_05_05/2d3768cc-8eeb-11ea-878b-0242ac1c0002'\n",
    "learn = Learner(data=data,\n",
    "                model=model,\n",
    "                wd=1e-3,\n",
    "                bn_wd=False,\n",
    "                true_wd=True,\n",
    "                metrics=[accuracy],\n",
    "                loss_func=LabelSmoothingCrossEntropy(),\n",
    "                callback_fns=[CSVLogger, SaveModelCallback],\n",
    "                path=trial_info.output_folder\n",
    "                ).to_fp16()\n",
    "learn = learn.load('bestmodel')"
   ],
   "metadata": {
    "collapsed": false,
    "pycharm": {
     "name": "#%%\n"
    }
   }
  },
  {
   "cell_type": "code",
   "execution_count": 52,
   "outputs": [
    {
     "data": {
      "text/plain": "WindowsPath('data/output/trials/2020_05_07/d1f45ae6-908c-11ea-8af9-001a7dda7112')"
     },
     "execution_count": 52,
     "metadata": {},
     "output_type": "execute_result"
    }
   ],
   "source": [
    "learn.model"
   ],
   "metadata": {
    "collapsed": false,
    "pycharm": {
     "name": "#%%\n"
    }
   }
  },
  {
   "cell_type": "code",
   "execution_count": null,
   "metadata": {},
   "outputs": [],
   "source": [
    "labels = pd.read_csv(dataset_info['labels']['location'])"
   ]
  }
 ],
 "metadata": {
  "kernelspec": {
   "display_name": "project",
   "language": "python",
   "name": "myenv"
  },
  "language_info": {
   "codemirror_mode": {
    "name": "ipython",
    "version": 3
   },
   "file_extension": ".py",
   "mimetype": "text/x-python",
   "name": "python",
   "nbconvert_exporter": "python",
   "pygments_lexer": "ipython3",
   "version": "3.7.7"
  }
 },
 "nbformat": 4,
 "nbformat_minor": 4
}